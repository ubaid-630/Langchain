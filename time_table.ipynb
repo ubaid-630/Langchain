{
  "cells": [
    {
      "cell_type": "code",
      "execution_count": 4,
      "metadata": {
        "id": "3giKyAOlQBZq"
      },
      "outputs": [],
      "source": [
        "import csv\n",
        "import os\n",
        "import langchain\n",
        "from langchain.docstore.document import Document\n",
        "from langchain.vectorstores import FAISS\n",
        "from langchain.chat_models import ChatOpenAI\n",
        "from langchain.chains import RetrievalQAWithSourcesChain\n",
        "from langchain.chains import LLMChain\n",
        "from langchain import PromptTemplate, LLMChain\n",
        "from langchain_openai import OpenAIEmbeddings\n",
        "from langchain.text_splitter import RecursiveCharacterTextSplitter\n",
        "from langchain_community.document_loaders.csv_loader import CSVLoader"
      ]
    },
    {
      "cell_type": "code",
      "execution_count": 5,
      "metadata": {
        "id": "dPeds7HLQwCC"
      },
      "outputs": [
        {
          "name": "stderr",
          "output_type": "stream",
          "text": [
            "c:\\Users\\HP\\Langchain_Test\\myenv\\Lib\\site-packages\\langchain_core\\_api\\deprecation.py:139: LangChainDeprecationWarning: The class `ChatOpenAI` was deprecated in LangChain 0.0.10 and will be removed in 0.3.0. An updated version of the class exists in the langchain-openai package and should be used instead. To use it run `pip install -U langchain-openai` and import as `from langchain_openai import ChatOpenAI`.\n",
            "  warn_deprecated(\n"
          ]
        }
      ],
      "source": [
        "llm = ChatOpenAI(model_name=\"gpt-4-turbo\",\n",
        "                         temperature=0.5,\n",
        "                         max_tokens=3000,\n",
        "                         openai_api_key=\"sk-proj-jSxhZ2GSmSmO7k8WTlbFJsBWiX6J7kzY9wOZ\")\n",
        "template = '''\n",
        "You are a helpful assistant which makes study plans for students  by thoroughly analyzing the diverse array of student-specific data, encompassing their subjects , preferred learning styles (visual, auditory, kinesthetic), extracurricular activities, and distinct personal objectives or challenges (such as preparing for a specific exam or overcoming a learning difficulty).\n",
        "The study plan should not only keep in academic requirements but also considers the student aspirations and and needs.\n",
        "Please give the study plan only in Text, properly structured with day wise activities. Don't include Table in the response.\n",
        "The answer should be based on context only, and do not use general knowledge to answer the query.\n",
        "Depending on the the following context, please provide an answer to the question:\n",
        "        Context: {context}\n",
        "        Question: {question}\n",
        "\n",
        "        Answer:\n",
        "\n",
        "        '''\n",
        "\n",
        "def parse_csv(file):\n",
        "    loader = CSVLoader(file_path=file)\n",
        "    data = loader.load()\n",
        "    return data\n",
        "\n",
        "\n",
        "def data_ingestion(data):\n",
        "    text_splitter = RecursiveCharacterTextSplitter(\n",
        "            separators=[\"\\n\\n\", \"\\n\"],\n",
        "            chunk_size=1000,\n",
        "            chunk_overlap=128,\n",
        "        )\n",
        "    text_splitter = RecursiveCharacterTextSplitter(chunk_size=1000, chunk_overlap=50)\n",
        "    chunks = text_splitter.split_documents(documents=data)\n",
        "    return chunks\n",
        "\n",
        "\n",
        "def response_generation(chunks, query):\n",
        "    embeddings = OpenAIEmbeddings(openai_api_key= \"sk-proj-jS8xhZ22GVSmSmO7k38WT3BlbkFJsdBWiX6J7kzY9wOIZEMt\")\n",
        "    db = FAISS.from_documents(chunks, embeddings)\n",
        "    db.save_local(\"Faiss_Index\")\n",
        "    db = FAISS.load_local(\"Faiss_Index\", embeddings=embeddings, allow_dangerous_deserialization=True)\n",
        "    search = db.similarity_search(query, k=2)\n",
        "    prompt = PromptTemplate(input_variables=[\"context\", \"question\"], template=template)\n",
        "    qa = RetrievalQAWithSourcesChain.from_chain_type(\n",
        "        llm=llm,\n",
        "        chain_type=\"stuff\",\n",
        "        retriever=db.as_retriever(),\n",
        "            chain_type_kwargs={\n",
        "        \"document_variable_name\": \"context\",  # Specify the document variable name\n",
        "        \"prompt\": prompt,  # Pass the prompt template\n",
        "    },\n",
        "        return_source_documents=False,  # Set this to True to return source documents\n",
        "        verbose = True\n",
        "    )\n",
        "    # llm_chain_ = LLMChain(prompt=prompt, llm=llm)\n",
        "    response= qa({\"context\":search, \"question\": query})\n",
        "    return response\n"
      ]
    },
    {
      "cell_type": "code",
      "execution_count": 8,
      "metadata": {
        "colab": {
          "base_uri": "https://localhost:8080/",
          "height": 589
        },
        "id": "bHoMIY7EQ3Dg",
        "outputId": "666bb270-207e-4b51-b0db-544402347a8b"
      },
      "outputs": [
        {
          "name": "stdout",
          "output_type": "stream",
          "text": [
            "\n",
            "\n",
            "\u001b[1m> Entering new RetrievalQAWithSourcesChain chain...\u001b[0m\n",
            "\n",
            "\u001b[1m> Finished chain.\u001b[0m\n",
            "**Study Schedule for Wania - Week Plan**\n",
            "\n",
            "**Field of Study:** Computer Science (CS)  \n",
            "**Year of Study:** 2nd  \n",
            "**Subject:** Data Structures and Algorithms (DSA)  \n",
            "**Learning Style:** Kinesthetic  \n",
            "**Personal Objective:** Exam Preparation  \n",
            "**Challenge:** Bloomer (Late Bloomer - requires more time to grasp concepts)  \n",
            "**Extracurricular Activities:** Interacting  \n",
            "\n",
            "**Monday:**\n",
            "- **Morning:** Review of last week’s DSA topics (2 hours)\n",
            "- **Afternoon:** Practical session implementing algorithms through coding exercises (2 hours)\n",
            "- **Evening:** Group study session to discuss problems and solutions with peers (1.5 hours)\n",
            "\n",
            "**Tuesday:**\n",
            "- **Morning:** Attend DSA lecture (if scheduled) or watch an instructional video on new topics (1.5 hours)\n",
            "- **Afternoon:** Hands-on coding practice focusing on new algorithms learned (2 hours)\n",
            "- **Evening:** Light exercise and social activities to relax and interact (1 hour)\n",
            "\n",
            "**Wednesday:**\n",
            "- **Morning:** Solve problem sets from textbooks or online resources (2 hours)\n",
            "- **Afternoon:** One-on-one session with a tutor to address challenging topics (1.5 hours)\n",
            "- **Evening:** Engage in a tech meetup or webinar to enhance understanding and networking (2 hours)\n",
            "\n",
            "**Thursday:**\n",
            "- **Morning:** Group coding session to build a small project using learned algorithms (3 hours)\n",
            "- **Afternoon:** Review and debug the project code (2 hours)\n",
            "- **Evening:** Free time or engage in light interaction activities (1 hour)\n",
            "\n",
            "**Friday:**\n",
            "- **Morning:** Quick revision of the week’s learning (1.5 hours)\n",
            "- **Afternoon:** Mock test to assess the week’s progress (2 hours)\n",
            "- **Evening:** Analyze test results and identify weak areas (1 hour)\n",
            "\n",
            "**Saturday:**\n",
            "- **Morning:** Focus session on weak areas identified in Friday’s test (2 hours)\n",
            "- **Afternoon:** Participate in a coding hackathon or group challenge (3 hours)\n",
            "- **Evening:** Relax and socialize, possibly attend a community event (2 hours)\n",
            "\n",
            "**Sunday:**\n",
            "- **Day Off:** Engage extensively in extracurricular activities like interacting with friends and family to rejuvenate and prepare for the coming week.\n",
            "\n",
            "**Notes:**\n",
            "- Ensure to take short breaks between study sessions to maintain high levels of concentration.\n",
            "- Stay hydrated and maintain a balanced diet to support intensive study periods.\n",
            "- Adjust the schedule based on actual progress and feedback from weekly assessments.\n"
          ]
        }
      ],
      "source": [
        "file = \"students_data.csv\"\n",
        "query = \"Please give me one weekk study schedule for Wania\"\n",
        "data = parse_csv(file)\n",
        "chunks  = data_ingestion(data)\n",
        "response = response_generation(chunks, query)\n",
        "print(response['answer'])"
      ]
    },
    {
      "cell_type": "code",
      "execution_count": null,
      "metadata": {
        "id": "UJ9fzh2aRNlb"
      },
      "outputs": [],
      "source": []
    }
  ],
  "metadata": {
    "colab": {
      "provenance": []
    },
    "kernelspec": {
      "display_name": "Python 3",
      "name": "python3"
    },
    "language_info": {
      "codemirror_mode": {
        "name": "ipython",
        "version": 3
      },
      "file_extension": ".py",
      "mimetype": "text/x-python",
      "name": "python",
      "nbconvert_exporter": "python",
      "pygments_lexer": "ipython3",
      "version": "3.11.3"
    }
  },
  "nbformat": 4,
  "nbformat_minor": 0
}
